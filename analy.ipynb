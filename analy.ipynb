{
 "cells": [
  {
   "cell_type": "code",
   "id": "initial_id",
   "metadata": {
    "collapsed": true,
    "ExecuteTime": {
     "end_time": "2025-06-11T06:34:47.102476Z",
     "start_time": "2025-06-11T06:34:47.093818Z"
    }
   },
   "source": [
    "import numpy as np\n",
    "import matplotlib.pyplot as plt\n",
    "import pandas as pd\n",
    "from scipy.stats import norm\n",
    "\n"
   ],
   "outputs": [],
   "execution_count": 19
  },
  {
   "metadata": {
    "ExecuteTime": {
     "end_time": "2025-06-11T06:34:47.392316Z",
     "start_time": "2025-06-11T06:34:47.388096Z"
    }
   },
   "cell_type": "code",
   "source": [
    "# Parameters\n",
    "S0 = 14.0           # Initial asset price\n",
    "K = 6.0             # Strike price\n",
    "r = 0.1             # Risk-free rate\n",
    "sigma = 0.1         # Volatility\n",
    "T = 2.0             # Time to maturity (years)\n",
    "N = 120             # Number of time steps (lattice points)\n",
    "dt = T / N          # Time step\n"
   ],
   "id": "4e07927e3f259756",
   "outputs": [],
   "execution_count": 20
  },
  {
   "metadata": {
    "ExecuteTime": {
     "end_time": "2025-06-11T06:34:47.541540Z",
     "start_time": "2025-06-11T06:34:47.537078Z"
    }
   },
   "cell_type": "code",
   "source": [
    "def bs_action(path, r, sigma, dt):\n",
    "    mu = 0.5 * sigma**2 - r\n",
    "    diffs = np.diff(path) / dt\n",
    "    L = ((diffs - mu)**2) * dt / (2 * sigma**2)\n",
    "    return np.sum(L)\n"
   ],
   "id": "ccb6344831fc10a5",
   "outputs": [],
   "execution_count": 21
  },
  {
   "metadata": {
    "ExecuteTime": {
     "end_time": "2025-06-11T06:34:47.714736Z",
     "start_time": "2025-06-11T06:34:47.708149Z"
    }
   },
   "cell_type": "code",
   "source": [
    "class MetropolisSampler:\n",
    "    def __init__(self, X0, N, dt, r, sigma, T, step_size=0.1):\n",
    "        self.X0 = X0\n",
    "        self.N = N\n",
    "        self.dt = dt\n",
    "        self.r = r\n",
    "        self.sigma = sigma\n",
    "        self.T = T\n",
    "        self.step_size = step_size\n",
    "        self.accepted_paths = []\n",
    "\n",
    "    def sample(self, num_paths):\n",
    "        X = np.linspace(self.X0, self.X0 + (self.r - 0.5 * self.sigma**2) * self.T, self.N + 1)\n",
    "        S = bs_action(X, self.r, self.sigma, self.dt)\n",
    "\n",
    "        for _ in range(num_paths):\n",
    "            X_new = X.copy()\n",
    "            idx = np.random.randint(1, self.N)\n",
    "            X_new[idx] += np.random.normal(0, self.step_size)\n",
    "            S_new = bs_action(X_new, self.r, self.sigma, self.dt)\n",
    "            dS = S_new - S\n",
    "\n",
    "            if dS < 0 or np.random.rand() < np.exp(-dS):\n",
    "                X = X_new\n",
    "                S = S_new\n",
    "                self.accepted_paths.append(X.copy())\n",
    "\n",
    "        return np.array(self.accepted_paths)\n"
   ],
   "id": "704f667d9070652b",
   "outputs": [],
   "execution_count": 22
  },
  {
   "metadata": {
    "ExecuteTime": {
     "end_time": "2025-06-11T06:34:47.878110Z",
     "start_time": "2025-06-11T06:34:47.873009Z"
    }
   },
   "cell_type": "code",
   "source": [
    "def asian_payoff(paths, K, dt):\n",
    "    averages = np.mean(np.exp(paths[:, 1:]), axis=1)\n",
    "    return np.maximum(averages - K, 0)\n"
   ],
   "id": "1991a584c435e4f",
   "outputs": [],
   "execution_count": 23
  },
  {
   "metadata": {
    "ExecuteTime": {
     "end_time": "2025-06-11T06:34:48.094683Z",
     "start_time": "2025-06-11T06:34:48.065168Z"
    }
   },
   "cell_type": "code",
   "source": [
    "X0 = np.log(S0)\n",
    "sampler = MetropolisSampler(X0, N, dt, r, sigma,T,step_size=0.05)\n",
    "accepted = sampler.sample(num_paths=1000)\n",
    "payoffs = asian_payoff(accepted, K, dt)\n",
    "price = np.exp(-r * T) * np.mean(payoffs)\n",
    "\n",
    "print(f\"Estimated Asian Option Price: {price:.4f}\")\n"
   ],
   "id": "acd834f485ed702",
   "outputs": [
    {
     "name": "stdout",
     "output_type": "stream",
     "text": [
      "Estimated Asian Option Price: 7.7239\n"
     ]
    }
   ],
   "execution_count": 24
  },
  {
   "metadata": {},
   "cell_type": "markdown",
   "source": "",
   "id": "f9ae485fefa1e652"
  },
  {
   "metadata": {
    "ExecuteTime": {
     "end_time": "2025-06-11T06:34:48.477256Z",
     "start_time": "2025-06-11T06:34:48.457936Z"
    }
   },
   "cell_type": "code",
   "source": [
    "X0 = np.log(S0)\n",
    "sampler1 = MetropolisSampler(X0, N, dt, r, sigma,T,step_size=0.05)\n",
    "accepted1 = sampler.sample(num_paths=1000)\n",
    "payoffs = asian_payoff(accepted1, K, dt)\n",
    "price = np.exp(-r * T) * np.mean(payoffs)\n",
    "\n",
    "print(f\"Estimated Asian Option Price: {price:.4f}\")\n"
   ],
   "id": "59c0cdd2012e4dfd",
   "outputs": [
    {
     "name": "stdout",
     "output_type": "stream",
     "text": [
      "Estimated Asian Option Price: 7.7189\n"
     ]
    }
   ],
   "execution_count": 25
  },
  {
   "metadata": {
    "ExecuteTime": {
     "end_time": "2025-06-11T06:34:48.718629Z",
     "start_time": "2025-06-11T06:34:48.677246Z"
    }
   },
   "cell_type": "code",
   "source": [
    "final_X = paths[:, -1]\n",
    "plt.hist(final_X, bins=40, density=True, alpha=0.6, label=\"Simulated\")\n",
    "mu = X0 + (r - 0.5 * sigma**2) * T\n",
    "std = sigma * np.sqrt(T)\n",
    "x_vals = np.linspace(min(final_X), max(final_X), 100)\n",
    "plt.plot(x_vals, norm.pdf(x_vals, mu, std), label=\"Theoretical\", color=\"black\")\n",
    "plt.title(\"Distribution of Final log-Prices\")\n",
    "plt.legend()\n"
   ],
   "id": "1c2af572d3c4b88",
   "outputs": [
    {
     "ename": "TypeError",
     "evalue": "'MetropolisSampler' object is not subscriptable",
     "output_type": "error",
     "traceback": [
      "\u001B[0;31m---------------------------------------------------------------------------\u001B[0m",
      "\u001B[0;31mTypeError\u001B[0m                                 Traceback (most recent call last)",
      "Cell \u001B[0;32mIn[26], line 1\u001B[0m\n\u001B[0;32m----> 1\u001B[0m final_X \u001B[38;5;241m=\u001B[39m \u001B[43mpaths\u001B[49m\u001B[43m[\u001B[49m\u001B[43m:\u001B[49m\u001B[43m,\u001B[49m\u001B[43m \u001B[49m\u001B[38;5;241;43m-\u001B[39;49m\u001B[38;5;241;43m1\u001B[39;49m\u001B[43m]\u001B[49m\n\u001B[1;32m      2\u001B[0m plt\u001B[38;5;241m.\u001B[39mhist(final_X, bins\u001B[38;5;241m=\u001B[39m\u001B[38;5;241m40\u001B[39m, density\u001B[38;5;241m=\u001B[39m\u001B[38;5;28;01mTrue\u001B[39;00m, alpha\u001B[38;5;241m=\u001B[39m\u001B[38;5;241m0.6\u001B[39m, label\u001B[38;5;241m=\u001B[39m\u001B[38;5;124m\"\u001B[39m\u001B[38;5;124mSimulated\u001B[39m\u001B[38;5;124m\"\u001B[39m)\n\u001B[1;32m      3\u001B[0m mu \u001B[38;5;241m=\u001B[39m X0 \u001B[38;5;241m+\u001B[39m (r \u001B[38;5;241m-\u001B[39m \u001B[38;5;241m0.5\u001B[39m \u001B[38;5;241m*\u001B[39m sigma\u001B[38;5;241m*\u001B[39m\u001B[38;5;241m*\u001B[39m\u001B[38;5;241m2\u001B[39m) \u001B[38;5;241m*\u001B[39m T\n",
      "\u001B[0;31mTypeError\u001B[0m: 'MetropolisSampler' object is not subscriptable"
     ]
    }
   ],
   "execution_count": 26
  },
  {
   "metadata": {
    "ExecuteTime": {
     "end_time": "2025-06-11T06:34:48.912100Z",
     "start_time": "2025-06-11T06:34:48.905138Z"
    }
   },
   "cell_type": "code",
   "source": [
    "X = np.linspace(X0, X0 + (r - 0.5 * sigma**2) * T, N+1)\n",
    "X"
   ],
   "id": "df1fda87f4c40400",
   "outputs": [
    {
     "data": {
      "text/plain": [
       "array([2.63905733, 2.64064066, 2.642224  , 2.64380733, 2.64539066,\n",
       "       2.646974  , 2.64855733, 2.65014066, 2.651724  , 2.65330733,\n",
       "       2.65489066, 2.656474  , 2.65805733, 2.65964066, 2.661224  ,\n",
       "       2.66280733, 2.66439066, 2.665974  , 2.66755733, 2.66914066,\n",
       "       2.670724  , 2.67230733, 2.67389066, 2.675474  , 2.67705733,\n",
       "       2.67864066, 2.680224  , 2.68180733, 2.68339066, 2.684974  ,\n",
       "       2.68655733, 2.68814066, 2.689724  , 2.69130733, 2.69289066,\n",
       "       2.694474  , 2.69605733, 2.69764066, 2.699224  , 2.70080733,\n",
       "       2.70239066, 2.703974  , 2.70555733, 2.70714066, 2.708724  ,\n",
       "       2.71030733, 2.71189066, 2.713474  , 2.71505733, 2.71664066,\n",
       "       2.718224  , 2.71980733, 2.72139066, 2.722974  , 2.72455733,\n",
       "       2.72614066, 2.727724  , 2.72930733, 2.73089066, 2.732474  ,\n",
       "       2.73405733, 2.73564066, 2.737224  , 2.73880733, 2.74039066,\n",
       "       2.741974  , 2.74355733, 2.74514066, 2.746724  , 2.74830733,\n",
       "       2.74989066, 2.751474  , 2.75305733, 2.75464066, 2.756224  ,\n",
       "       2.75780733, 2.75939066, 2.760974  , 2.76255733, 2.76414066,\n",
       "       2.765724  , 2.76730733, 2.76889066, 2.770474  , 2.77205733,\n",
       "       2.77364066, 2.775224  , 2.77680733, 2.77839066, 2.779974  ,\n",
       "       2.78155733, 2.78314066, 2.784724  , 2.78630733, 2.78789066,\n",
       "       2.789474  , 2.79105733, 2.79264066, 2.794224  , 2.79580733,\n",
       "       2.79739066, 2.798974  , 2.80055733, 2.80214066, 2.803724  ,\n",
       "       2.80530733, 2.80689066, 2.808474  , 2.81005733, 2.81164066,\n",
       "       2.813224  , 2.81480733, 2.81639066, 2.817974  , 2.81955733,\n",
       "       2.82114066, 2.822724  , 2.82430733, 2.82589066, 2.827474  ,\n",
       "       2.82905733])"
      ]
     },
     "execution_count": 27,
     "metadata": {},
     "output_type": "execute_result"
    }
   ],
   "execution_count": 27
  },
  {
   "metadata": {
    "ExecuteTime": {
     "end_time": "2025-06-11T06:34:49.873995Z",
     "start_time": "2025-06-11T06:34:49.550304Z"
    }
   },
   "cell_type": "code",
   "source": [
    "plt.plot(np.linspace(0, T, N+1), X)\n",
    "plt.title(\"Initial Log-Price Path (Classical Path)\")\n",
    "plt.xlabel(\"Time\")\n",
    "plt.ylabel(\"log(S)\")\n"
   ],
   "id": "cfcc3e0a837953fd",
   "outputs": [
    {
     "data": {
      "text/plain": [
       "Text(0, 0.5, 'log(S)')"
      ]
     },
     "execution_count": 28,
     "metadata": {},
     "output_type": "execute_result"
    },
    {
     "data": {
      "text/plain": [
       "<Figure size 640x480 with 1 Axes>"
      ],
      "image/png": "[encoded data removed]"
     },
     "metadata": {},
     "output_type": "display_data"
    }
   ],
   "execution_count": 28
  },
  {
   "metadata": {
    "ExecuteTime": {
     "end_time": "2025-06-11T06:34:54.884291Z",
     "start_time": "2025-06-11T06:34:54.875138Z"
    }
   },
   "cell_type": "code",
   "source": "d=pd.DataFrame(accepted)",
   "id": "b8ee00391578fc78",
   "outputs": [],
   "execution_count": 30
  },
  {
   "metadata": {
    "ExecuteTime": {
     "end_time": "2025-06-11T06:35:36.473365Z",
     "start_time": "2025-06-11T06:35:36.454155Z"
    }
   },
   "cell_type": "code",
   "source": "d.head()",
   "id": "c599315f1df14a22",
   "outputs": [
    {
     "data": {
      "text/plain": [
       "        0         1         2         3         4         5         6    \\\n",
       "0  2.639057  2.640641  2.642224  2.643807  2.645391  2.646974  2.648557   \n",
       "1  2.639057  2.640641  2.642224  2.643807  2.645391  2.646974  2.648557   \n",
       "2  2.639057  2.640641  2.642224  2.643807  2.645391  2.646974  2.648557   \n",
       "3  2.639057  2.640641  2.642224  2.643807  2.645391  2.646974  2.648557   \n",
       "4  2.639057  2.640641  2.642224  2.643807  2.645391  2.646974  2.648557   \n",
       "\n",
       "        7         8         9    ...       111       112       113       114  \\\n",
       "0  2.650141  2.651724  2.653307  ...  2.814807  2.816391  2.817974  2.819557   \n",
       "1  2.650141  2.651724  2.653307  ...  2.814807  2.816391  2.817974  2.819557   \n",
       "2  2.650141  2.651724  2.653307  ...  2.814807  2.816391  2.817974  2.819557   \n",
       "3  2.650141  2.651724  2.653307  ...  2.814807  2.816391  2.817974  2.819557   \n",
       "4  2.650141  2.651724  2.653307  ...  2.814807  2.816391  2.817974  2.819557   \n",
       "\n",
       "        115       116       117       118       119       120  \n",
       "0  2.821141  2.822724  2.824307  2.825891  2.827474  2.829057  \n",
       "1  2.821141  2.822724  2.824307  2.825891  2.827474  2.829057  \n",
       "2  2.821141  2.822724  2.824307  2.825891  2.827474  2.829057  \n",
       "3  2.821141  2.822724  2.824307  2.825891  2.827474  2.829057  \n",
       "4  2.821141  2.822724  2.824307  2.825891  2.827474  2.829057  \n",
       "\n",
       "[5 rows x 121 columns]"
      ],
      "text/html": [
       "<div>\n",
       "<style scoped>\n",
       "    .dataframe tbody tr th:only-of-type {\n",
       "        vertical-align: middle;\n",
       "    }\n",
       "\n",
       "    .dataframe tbody tr th {\n",
       "        vertical-align: top;\n",
       "    }\n",
       "\n",
       "    .dataframe thead th {\n",
       "        text-align: right;\n",
       "    }\n",
       "</style>\n",
       "<table border=\"1\" class=\"dataframe\">\n",
       "  <thead>\n",
       "    <tr style=\"text-align: right;\">\n",
       "      <th></th>\n",
       "      <th>0</th>\n",
       "      <th>1</th>\n",
       "      <th>2</th>\n",
       "      <th>3</th>\n",
       "      <th>4</th>\n",
       "      <th>5</th>\n",
       "      <th>6</th>\n",
       "      <th>7</th>\n",
       "      <th>8</th>\n",
       "      <th>9</th>\n",
       "      <th>...</th>\n",
       "      <th>111</th>\n",
       "      <th>112</th>\n",
       "      <th>113</th>\n",
       "      <th>114</th>\n",
       "      <th>115</th>\n",
       "      <th>116</th>\n",
       "      <th>117</th>\n",
       "      <th>118</th>\n",
       "      <th>119</th>\n",
       "      <th>120</th>\n",
       "    </tr>\n",
       "  </thead>\n",
       "  <tbody>\n",
       "    <tr>\n",
       "      <th>0</th>\n",
       "      <td>2.639057</td>\n",
       "      <td>2.640641</td>\n",
       "      <td>2.642224</td>\n",
       "      <td>2.643807</td>\n",
       "      <td>2.645391</td>\n",
       "      <td>2.646974</td>\n",
       "      <td>2.648557</td>\n",
       "      <td>2.650141</td>\n",
       "      <td>2.651724</td>\n",
       "      <td>2.653307</td>\n",
       "      <td>...</td>\n",
       "      <td>2.814807</td>\n",
       "      <td>2.816391</td>\n",
       "      <td>2.817974</td>\n",
       "      <td>2.819557</td>\n",
       "      <td>2.821141</td>\n",
       "      <td>2.822724</td>\n",
       "      <td>2.824307</td>\n",
       "      <td>2.825891</td>\n",
       "      <td>2.827474</td>\n",
       "      <td>2.829057</td>\n",
       "    </tr>\n",
       "    <tr>\n",
       "      <th>1</th>\n",
       "      <td>2.639057</td>\n",
       "      <td>2.640641</td>\n",
       "      <td>2.642224</td>\n",
       "      <td>2.643807</td>\n",
       "      <td>2.645391</td>\n",
       "      <td>2.646974</td>\n",
       "      <td>2.648557</td>\n",
       "      <td>2.650141</td>\n",
       "      <td>2.651724</td>\n",
       "      <td>2.653307</td>\n",
       "      <td>...</td>\n",
       "      <td>2.814807</td>\n",
       "      <td>2.816391</td>\n",
       "      <td>2.817974</td>\n",
       "      <td>2.819557</td>\n",
       "      <td>2.821141</td>\n",
       "      <td>2.822724</td>\n",
       "      <td>2.824307</td>\n",
       "      <td>2.825891</td>\n",
       "      <td>2.827474</td>\n",
       "      <td>2.829057</td>\n",
       "    </tr>\n",
       "    <tr>\n",
       "      <th>2</th>\n",
       "      <td>2.639057</td>\n",
       "      <td>2.640641</td>\n",
       "      <td>2.642224</td>\n",
       "      <td>2.643807</td>\n",
       "      <td>2.645391</td>\n",
       "      <td>2.646974</td>\n",
       "      <td>2.648557</td>\n",
       "      <td>2.650141</td>\n",
       "      <td>2.651724</td>\n",
       "      <td>2.653307</td>\n",
       "      <td>...</td>\n",
       "      <td>2.814807</td>\n",
       "      <td>2.816391</td>\n",
       "      <td>2.817974</td>\n",
       "      <td>2.819557</td>\n",
       "      <td>2.821141</td>\n",
       "      <td>2.822724</td>\n",
       "      <td>2.824307</td>\n",
       "      <td>2.825891</td>\n",
       "      <td>2.827474</td>\n",
       "      <td>2.829057</td>\n",
       "    </tr>\n",
       "    <tr>\n",
       "      <th>3</th>\n",
       "      <td>2.639057</td>\n",
       "      <td>2.640641</td>\n",
       "      <td>2.642224</td>\n",
       "      <td>2.643807</td>\n",
       "      <td>2.645391</td>\n",
       "      <td>2.646974</td>\n",
       "      <td>2.648557</td>\n",
       "      <td>2.650141</td>\n",
       "      <td>2.651724</td>\n",
       "      <td>2.653307</td>\n",
       "      <td>...</td>\n",
       "      <td>2.814807</td>\n",
       "      <td>2.816391</td>\n",
       "      <td>2.817974</td>\n",
       "      <td>2.819557</td>\n",
       "      <td>2.821141</td>\n",
       "      <td>2.822724</td>\n",
       "      <td>2.824307</td>\n",
       "      <td>2.825891</td>\n",
       "      <td>2.827474</td>\n",
       "      <td>2.829057</td>\n",
       "    </tr>\n",
       "    <tr>\n",
       "      <th>4</th>\n",
       "      <td>2.639057</td>\n",
       "      <td>2.640641</td>\n",
       "      <td>2.642224</td>\n",
       "      <td>2.643807</td>\n",
       "      <td>2.645391</td>\n",
       "      <td>2.646974</td>\n",
       "      <td>2.648557</td>\n",
       "      <td>2.650141</td>\n",
       "      <td>2.651724</td>\n",
       "      <td>2.653307</td>\n",
       "      <td>...</td>\n",
       "      <td>2.814807</td>\n",
       "      <td>2.816391</td>\n",
       "      <td>2.817974</td>\n",
       "      <td>2.819557</td>\n",
       "      <td>2.821141</td>\n",
       "      <td>2.822724</td>\n",
       "      <td>2.824307</td>\n",
       "      <td>2.825891</td>\n",
       "      <td>2.827474</td>\n",
       "      <td>2.829057</td>\n",
       "    </tr>\n",
       "  </tbody>\n",
       "</table>\n",
       "<p>5 rows × 121 columns</p>\n",
       "</div>"
      ]
     },
     "execution_count": 32,
     "metadata": {},
     "output_type": "execute_result"
    }
   ],
   "execution_count": 32
  },
  {
   "metadata": {},
   "cell_type": "code",
   "outputs": [],
   "execution_count": null,
   "source": "",
   "id": "746cc2564288d4e8"
  }
 ],
 "metadata": {
  "kernelspec": {
   "display_name": "Python 3",
   "language": "python",
   "name": "python3"
  },
  "language_info": {
   "codemirror_mode": {
    "name": "ipython",
    "version": 2
   },
   "file_extension": ".py",
   "mimetype": "text/x-python",
   "name": "python",
   "nbconvert_exporter": "python",
   "pygments_lexer": "ipython2",
   "version": "2.7.6"
  }
 },
 "nbformat": 4,
 "nbformat_minor": 5
}
