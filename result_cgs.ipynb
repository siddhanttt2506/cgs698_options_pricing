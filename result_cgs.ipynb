{
  "cells": [
    {
      "cell_type": "code",
      "execution_count": 1,
      "metadata": {
        "id": "1U8qeuRj0Jy-"
      },
      "outputs": [],
      "source": [
        "\n",
        "\n",
        "import numpy as np\n",
        "import cupy as cp\n",
        "import matplotlib.pyplot as plt\n",
        "import pandas as pd\n",
        "from scipy.stats import norm\n",
        "\n",
        "\n",
        "# Parameters \n",
        "S0 = 25520.60  # Initial asset price\n",
        "K = 25100.0    # Strike price (from NSE data)\n",
        "T = 86.0 / 365  # Time to maturity in years (~3 months)\n",
        "r = 0.068      # Risk-free rate from 91-day T-Bill\n",
        "sigma = 0.0976 # Implied volatility (9.76%)\n",
        "N = 120        # Number of time steps\n",
        "n_sweeps = 100000  # Reduced for faster debugging\n",
        "n_paths = 10000   # Number of paths for Heston\n",
        "N_steps = 100     # Time steps for Heston\n"
      ]
    },
    {
      "cell_type": "code",
      "execution_count": 2,
      "metadata": {
        "id": "jWqobEZO0Q5b"
      },
      "outputs": [],
      "source": [
        "# Path Integral Monte Carlo (GPU)\n",
        "def black_scholes_action_gpu(paths, dt, sigma, r, p=2.0, gamma=1.0):\n",
        "    X = cp.log(paths)\n",
        "    dX_dt = cp.diff(X, axis=1) / dt\n",
        "    mu = r - 0.5 * sigma**2\n",
        "    L = ((dX_dt - mu)**p) / (2 * sigma**p)\n",
        "    S = cp.sum(L**gamma, axis=1) * dt\n",
        "    return S\n",
        "\n",
        "def payoff_gpu(S, K, kind=\"call\"):\n",
        "    return cp.maximum(S - K, 0) if kind == \"call\" else cp.maximum(K - S, 0)\n",
        "\n",
        "def metropolis_hastings_gpu(S0, K, T, r, sigma, N, n_sweeps, tau_corr, kind=\"call\", batch_size=1000):\n",
        "    dt = T / (N - 1)\n",
        "    X0 = np.log(S0)\n",
        "    mu = r - 0.5 * sigma**2\n",
        "    X_T = X0 + mu * T\n",
        "    initial_path = cp.exp(cp.linspace(X0, X_T, N))\n",
        "    paths = cp.tile(initial_path, (batch_size, 1))\n",
        "    current_action = black_scholes_action_gpu(paths, dt, sigma, r)\n",
        "\n",
        "    payoffs = []\n",
        "    perturb_scale = 0.05\n",
        "    for sweep in range(n_sweeps):\n",
        "        indices = cp.random.choice(cp.arange(1, N), size=N//2, replace=False)\n",
        "        perturb = cp.random.normal(0, perturb_scale, size=(batch_size, len(indices)))\n",
        "        new_paths = paths.copy()\n",
        "        new_paths[:, indices] += perturb\n",
        "        new_paths = cp.maximum(new_paths, 1e-6)\n",
        "        new_action = black_scholes_action_gpu(new_paths, dt, sigma, r)\n",
        "        dS = new_action - current_action\n",
        "        accept = (dS <= 0) | (cp.random.rand(batch_size) < cp.exp(-dS))\n",
        "        paths = cp.where(accept[:, None], new_paths, paths)\n",
        "        current_action = cp.where(accept, new_action, current_action)\n",
        "        if sweep % tau_corr == 0:\n",
        "            payoff_vals = payoff_gpu(paths[:, -1], K, kind)\n",
        "            payoffs.append(cp.asnumpy(payoff_vals))\n",
        "\n",
        "    payoffs = np.concatenate(payoffs)\n",
        "    discounted = np.exp(-r * T) * np.mean(payoffs)\n",
        "    stderr = np.std(payoffs) / np.sqrt(len(payoffs))\n",
        "    return discounted, stderr\n",
        "    # Add this function to validate results\n",
        "def black_scholes_analytic(S0, K, T, r, sigma, call_put=\"call\"):\n",
        "    d1 = (np.log(S0/K) + (r + 0.5*sigma**2)*T) / (sigma*np.sqrt(T))\n",
        "    d2 = d1 - sigma*np.sqrt(T)\n",
        "    if call_put == \"call\":\n",
        "        price = S0*norm.cdf(d1) - K*np.exp(-r*T)*norm.cdf(d2)\n",
        "    else:\n",
        "        price = K*np.exp(-r*T)*norm.cdf(-d2) - S0*norm.cdf(-d1)\n",
        "    return price\n"
      ]
    },
    {
      "cell_type": "code",
      "execution_count": 3,
      "metadata": {
        "id": "XTy_Ussa0R6g"
      },
      "outputs": [],
      "source": [
        "# Heston Simulation (Mixing MC)\n",
        "def simulate_heston_paths(S0, v0, params, T, N_steps, n_paths, K, kind=\"call\"):\n",
        "    dt = T / N_steps\n",
        "    S_paths = cp.zeros((n_paths,))\n",
        "\n",
        "    for j in range(n_paths):\n",
        "        v = v0\n",
        "        I1 = 0.0  # ∫√v dZ\n",
        "        I2 = 0.0  # ∫v dt\n",
        "\n",
        "        for i in range(N_steps):\n",
        "            dZ = cp.random.normal(0, cp.sqrt(dt))\n",
        "            sqrt_v = cp.sqrt(cp.maximum(v, 1e-6))  # Ensure non-negative\n",
        "\n",
        "            # Accumulate integrals\n",
        "            I1 += sqrt_v * dZ\n",
        "            I2 += v * dt\n",
        "\n",
        "            # Update variance process (Euler-Maruyama with reflection)\n",
        "            v_new = v + params['kappa'] * (params['theta'] - v) * dt + params['xi'] * sqrt_v * dZ\n",
        "            v = cp.maximum(v_new, 0)  # Full truncation\n",
        "\n",
        "        # Generate orthogonal Brownian component\n",
        "        Z_ortho = cp.random.normal(0, 1.0)\n",
        "\n",
        "        # Construct log-return with ALL components\n",
        "        log_return = (r - 0.5 * I2) * T + \\\n",
        "                    params['rho'] * I1 + \\\n",
        "                    cp.sqrt(1 - params['rho']**2) * cp.sqrt(I2) * Z_ortho\n",
        "\n",
        "        S_T = S0 * cp.exp(log_return)\n",
        "        payoff_val = cp.maximum(S_T - K, 0) if kind == \"call\" else cp.maximum(K - S_T, 0)\n",
        "        S_paths[j] = payoff_val\n",
        "\n",
        "    S_paths_cpu = cp.asnumpy(S_paths)\n",
        "    mean_payoff = np.exp(-r * T) * np.mean(S_paths_cpu)\n",
        "    stderr = np.std(S_paths_cpu) / np.sqrt(n_paths)\n",
        "    return mean_payoff, stderr"
      ]
    },
    {
      "cell_type": "code",
      "execution_count": 4,
      "metadata": {
        "colab": {
          "base_uri": "https://localhost:8080/"
        },
        "id": "gDqmKn7a0VE9",
        "outputId": "97a812e0-fc11-4b7b-b1f0-da0b331e2128"
      },
      "outputs": [
        {
          "name": "stdout",
          "output_type": "stream",
          "text": [
            "\n",
            "Running GPU Path Integral Monte Carlo...\n",
            "\n",
            "Analytic BS Price: 992.6682\n",
            "\n",
            "Running Corrected GPU Path Integral Monte Carlo...\n",
            "Corrected BS Path Integral MC: Price = 791.0119, StdErr = 0.0079\n",
            "Difference: -201.6563 (20.31%)\n",
            "\n",
            "Running Heston MC simulation...\n",
            "Heston MC (Put): Price = 1053.3551, StdErr = 7.7662\n"
          ]
        }
      ],
      "source": [
        "# Run and Print Results\n",
        "print(\"\\nRunning GPU Path Integral Monte Carlo...\")\n",
        "tau_corr = 100\n",
        "# Calculate analytic price\n",
        "analytic_price = black_scholes_analytic(S0, K, T, r, sigma, \"call\")\n",
        "print(f\"\\nAnalytic BS Price: {analytic_price:.4f}\")\n",
        "\n",
        "# Run corrected PIMC\n",
        "print(\"\\nRunning Corrected GPU Path Integral Monte Carlo...\")\n",
        "bs_price, bs_error = metropolis_hastings_gpu(S0, K, T, r, sigma, N, n_sweeps, tau_corr, kind=\"call\")\n",
        "print(f\"Corrected BS Path Integral MC: Price = {bs_price:.4f}, StdErr = {bs_error:.4f}\")\n",
        "print(f\"Difference: {(bs_price - analytic_price):.4f} ({abs(bs_price - analytic_price)/analytic_price*100:.2f}%)\")\n",
        "\n",
        "print(\"\\nRunning Heston MC simulation...\")\n",
        "params = {\"kappa\": 2.0, \"theta\": sigma**2, \"xi\": 0.4, \"rho\": -0.7}\n",
        "v0 = sigma**2\n",
        "heston_price, heston_err = simulate_heston_paths(S0, v0, params, T, N_steps, n_paths, K, kind=\"call\")\n",
        "print(f\"Heston MC (Put): Price = {heston_price:.4f}, StdErr = {heston_err:.4f}\")\n"
      ]
    },
    {
      "cell_type": "code",
      "execution_count": 4,
      "metadata": {
        "id": "RZoX4KgS0YF0"
      },
      "outputs": [],
      "source": []
    }
  ],
  "metadata": {
    "accelerator": "GPU",
    "colab": {
      "gpuType": "T4",
      "provenance": []
    },
    "kernelspec": {
      "display_name": "Python 3",
      "name": "python3"
    },
    "language_info": {
      "name": "python"
    }
  },
  "nbformat": 4,
  "nbformat_minor": 0
}
